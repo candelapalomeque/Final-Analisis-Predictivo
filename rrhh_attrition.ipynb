{
 "cells": [
  {
   "cell_type": "code",
   "execution_count": 1,
   "metadata": {},
   "outputs": [],
   "source": [
    "import pandas as pd\n",
    "import numpy as np"
   ]
  },
  {
   "cell_type": "code",
   "execution_count": 2,
   "metadata": {},
   "outputs": [],
   "source": [
    "data = pd.read_csv('/Users/valentina/Desktop/RRHH TF/attrition.csv')"
   ]
  },
  {
   "cell_type": "code",
   "execution_count": 3,
   "metadata": {},
   "outputs": [
    {
     "data": {
      "text/html": [
       "<div>\n",
       "<style scoped>\n",
       "    .dataframe tbody tr th:only-of-type {\n",
       "        vertical-align: middle;\n",
       "    }\n",
       "\n",
       "    .dataframe tbody tr th {\n",
       "        vertical-align: top;\n",
       "    }\n",
       "\n",
       "    .dataframe thead th {\n",
       "        text-align: right;\n",
       "    }\n",
       "</style>\n",
       "<table border=\"1\" class=\"dataframe\">\n",
       "  <thead>\n",
       "    <tr style=\"text-align: right;\">\n",
       "      <th></th>\n",
       "      <th>Age</th>\n",
       "      <th>Attrition</th>\n",
       "      <th>BusinessTravel</th>\n",
       "      <th>DailyRate</th>\n",
       "      <th>Department</th>\n",
       "      <th>DistanceFromHome</th>\n",
       "      <th>Education</th>\n",
       "      <th>EducationField</th>\n",
       "      <th>EmployeeCount</th>\n",
       "      <th>EmployeeNumber</th>\n",
       "      <th>...</th>\n",
       "      <th>RelationshipSatisfaction</th>\n",
       "      <th>StandardHours</th>\n",
       "      <th>StockOptionLevel</th>\n",
       "      <th>TotalWorkingYears</th>\n",
       "      <th>TrainingTimesLastYear</th>\n",
       "      <th>WorkLifeBalance</th>\n",
       "      <th>YearsAtCompany</th>\n",
       "      <th>YearsInCurrentRole</th>\n",
       "      <th>YearsSinceLastPromotion</th>\n",
       "      <th>YearsWithCurrManager</th>\n",
       "    </tr>\n",
       "  </thead>\n",
       "  <tbody>\n",
       "    <tr>\n",
       "      <th>0</th>\n",
       "      <td>41</td>\n",
       "      <td>Yes</td>\n",
       "      <td>Travel_Rarely</td>\n",
       "      <td>1102</td>\n",
       "      <td>Sales</td>\n",
       "      <td>1</td>\n",
       "      <td>2</td>\n",
       "      <td>Life Sciences</td>\n",
       "      <td>1</td>\n",
       "      <td>1</td>\n",
       "      <td>...</td>\n",
       "      <td>1</td>\n",
       "      <td>80</td>\n",
       "      <td>0</td>\n",
       "      <td>8</td>\n",
       "      <td>0</td>\n",
       "      <td>1</td>\n",
       "      <td>6</td>\n",
       "      <td>4</td>\n",
       "      <td>0</td>\n",
       "      <td>5</td>\n",
       "    </tr>\n",
       "    <tr>\n",
       "      <th>1</th>\n",
       "      <td>49</td>\n",
       "      <td>No</td>\n",
       "      <td>Travel_Frequently</td>\n",
       "      <td>279</td>\n",
       "      <td>Research &amp; Development</td>\n",
       "      <td>8</td>\n",
       "      <td>1</td>\n",
       "      <td>Life Sciences</td>\n",
       "      <td>1</td>\n",
       "      <td>2</td>\n",
       "      <td>...</td>\n",
       "      <td>4</td>\n",
       "      <td>80</td>\n",
       "      <td>1</td>\n",
       "      <td>10</td>\n",
       "      <td>3</td>\n",
       "      <td>3</td>\n",
       "      <td>10</td>\n",
       "      <td>7</td>\n",
       "      <td>1</td>\n",
       "      <td>7</td>\n",
       "    </tr>\n",
       "    <tr>\n",
       "      <th>2</th>\n",
       "      <td>37</td>\n",
       "      <td>Yes</td>\n",
       "      <td>Travel_Rarely</td>\n",
       "      <td>1373</td>\n",
       "      <td>Research &amp; Development</td>\n",
       "      <td>2</td>\n",
       "      <td>2</td>\n",
       "      <td>Other</td>\n",
       "      <td>1</td>\n",
       "      <td>4</td>\n",
       "      <td>...</td>\n",
       "      <td>2</td>\n",
       "      <td>80</td>\n",
       "      <td>0</td>\n",
       "      <td>7</td>\n",
       "      <td>3</td>\n",
       "      <td>3</td>\n",
       "      <td>0</td>\n",
       "      <td>0</td>\n",
       "      <td>0</td>\n",
       "      <td>0</td>\n",
       "    </tr>\n",
       "    <tr>\n",
       "      <th>3</th>\n",
       "      <td>33</td>\n",
       "      <td>No</td>\n",
       "      <td>Travel_Frequently</td>\n",
       "      <td>1392</td>\n",
       "      <td>Research &amp; Development</td>\n",
       "      <td>3</td>\n",
       "      <td>4</td>\n",
       "      <td>Life Sciences</td>\n",
       "      <td>1</td>\n",
       "      <td>5</td>\n",
       "      <td>...</td>\n",
       "      <td>3</td>\n",
       "      <td>80</td>\n",
       "      <td>0</td>\n",
       "      <td>8</td>\n",
       "      <td>3</td>\n",
       "      <td>3</td>\n",
       "      <td>8</td>\n",
       "      <td>7</td>\n",
       "      <td>3</td>\n",
       "      <td>0</td>\n",
       "    </tr>\n",
       "    <tr>\n",
       "      <th>4</th>\n",
       "      <td>27</td>\n",
       "      <td>No</td>\n",
       "      <td>Travel_Rarely</td>\n",
       "      <td>591</td>\n",
       "      <td>Research &amp; Development</td>\n",
       "      <td>2</td>\n",
       "      <td>1</td>\n",
       "      <td>Medical</td>\n",
       "      <td>1</td>\n",
       "      <td>7</td>\n",
       "      <td>...</td>\n",
       "      <td>4</td>\n",
       "      <td>80</td>\n",
       "      <td>1</td>\n",
       "      <td>6</td>\n",
       "      <td>3</td>\n",
       "      <td>3</td>\n",
       "      <td>2</td>\n",
       "      <td>2</td>\n",
       "      <td>2</td>\n",
       "      <td>2</td>\n",
       "    </tr>\n",
       "  </tbody>\n",
       "</table>\n",
       "<p>5 rows × 35 columns</p>\n",
       "</div>"
      ],
      "text/plain": [
       "   Age Attrition     BusinessTravel  DailyRate              Department  \\\n",
       "0   41       Yes      Travel_Rarely       1102                   Sales   \n",
       "1   49        No  Travel_Frequently        279  Research & Development   \n",
       "2   37       Yes      Travel_Rarely       1373  Research & Development   \n",
       "3   33        No  Travel_Frequently       1392  Research & Development   \n",
       "4   27        No      Travel_Rarely        591  Research & Development   \n",
       "\n",
       "   DistanceFromHome  Education EducationField  EmployeeCount  EmployeeNumber  \\\n",
       "0                 1          2  Life Sciences              1               1   \n",
       "1                 8          1  Life Sciences              1               2   \n",
       "2                 2          2          Other              1               4   \n",
       "3                 3          4  Life Sciences              1               5   \n",
       "4                 2          1        Medical              1               7   \n",
       "\n",
       "   ...  RelationshipSatisfaction StandardHours  StockOptionLevel  \\\n",
       "0  ...                         1            80                 0   \n",
       "1  ...                         4            80                 1   \n",
       "2  ...                         2            80                 0   \n",
       "3  ...                         3            80                 0   \n",
       "4  ...                         4            80                 1   \n",
       "\n",
       "   TotalWorkingYears  TrainingTimesLastYear WorkLifeBalance  YearsAtCompany  \\\n",
       "0                  8                      0               1               6   \n",
       "1                 10                      3               3              10   \n",
       "2                  7                      3               3               0   \n",
       "3                  8                      3               3               8   \n",
       "4                  6                      3               3               2   \n",
       "\n",
       "  YearsInCurrentRole  YearsSinceLastPromotion  YearsWithCurrManager  \n",
       "0                  4                        0                     5  \n",
       "1                  7                        1                     7  \n",
       "2                  0                        0                     0  \n",
       "3                  7                        3                     0  \n",
       "4                  2                        2                     2  \n",
       "\n",
       "[5 rows x 35 columns]"
      ]
     },
     "execution_count": 3,
     "metadata": {},
     "output_type": "execute_result"
    }
   ],
   "source": [
    "data.head()"
   ]
  },
  {
   "cell_type": "code",
   "execution_count": 4,
   "metadata": {},
   "outputs": [
    {
     "data": {
      "text/plain": [
       "Index(['Age', 'Attrition', 'BusinessTravel', 'DailyRate', 'Department',\n",
       "       'DistanceFromHome', 'Education', 'EducationField', 'EmployeeCount',\n",
       "       'EmployeeNumber', 'EnvironmentSatisfaction', 'Gender', 'HourlyRate',\n",
       "       'JobInvolvement', 'JobLevel', 'JobRole', 'JobSatisfaction',\n",
       "       'MaritalStatus', 'MonthlyIncome', 'MonthlyRate', 'NumCompaniesWorked',\n",
       "       'Over18', 'OverTime', 'PercentSalaryHike', 'PerformanceRating',\n",
       "       'RelationshipSatisfaction', 'StandardHours', 'StockOptionLevel',\n",
       "       'TotalWorkingYears', 'TrainingTimesLastYear', 'WorkLifeBalance',\n",
       "       'YearsAtCompany', 'YearsInCurrentRole', 'YearsSinceLastPromotion',\n",
       "       'YearsWithCurrManager'],\n",
       "      dtype='object')"
      ]
     },
     "execution_count": 4,
     "metadata": {},
     "output_type": "execute_result"
    }
   ],
   "source": [
    "data.columns"
   ]
  },
  {
   "cell_type": "code",
   "execution_count": 5,
   "metadata": {},
   "outputs": [],
   "source": [
    "vars = ['Age','Gender', 'Attrition', 'BusinessTravel', 'Department',\n",
    "       'DistanceFromHome', 'EmployeeCount',\n",
    "       'EmployeeNumber', 'EnvironmentSatisfaction',\n",
    "       'JobInvolvement', 'JobRole', 'JobSatisfaction',\n",
    "       'MonthlyIncome', 'NumCompaniesWorked',\n",
    "       'OverTime', 'PercentSalaryHike', 'PerformanceRating',\n",
    "       'TotalWorkingYears', 'WorkLifeBalance',\n",
    "       'YearsAtCompany', 'YearsInCurrentRole', 'YearsSinceLastPromotion',\n",
    "       'YearsWithCurrManager']"
   ]
  },
  {
   "cell_type": "code",
   "execution_count": 6,
   "metadata": {},
   "outputs": [],
   "source": [
    "data = data[vars]"
   ]
  },
  {
   "cell_type": "code",
   "execution_count": 8,
   "metadata": {},
   "outputs": [],
   "source": [
    "data.to_csv(\"att.csv\")"
   ]
  },
  {
   "cell_type": "code",
   "execution_count": 9,
   "metadata": {},
   "outputs": [
    {
     "data": {
      "text/plain": [
       "25"
      ]
     },
     "execution_count": 9,
     "metadata": {},
     "output_type": "execute_result"
    }
   ],
   "source": [
    "vars_empleado=['Age','Gender','Education','EducationField','DistanceFromHome','NumCompaniesWorked','MaritalStatus','Over18','TotalWorkingYears']\n",
    "vars_company = ['BusinessTravel','DailyRate','Department','EmployeeCount','EmployeeNumber','EnvironmentSatisfaction','HourlyRate','JobInvolvement','JobLevel','JobRole',\n",
    "                'JobSatisfaction','MonthlyIncome','MonthlyRate','OverTime','PercentSalaryHike','PerformanceRating','RelationshipSatisfaction','StandardHours','StockOptionLevel',\n",
    "                'TrainingTimesLastYear','YearsAtCompany','YearsInCurrentRole','YearsSinceLastPromotion','YearsWithCurrManager','Attrition']\n",
    "len(vars_company)"
   ]
  },
  {
   "cell_type": "code",
   "execution_count": 10,
   "metadata": {},
   "outputs": [],
   "source": [
    "data_num = data.select_dtypes(include=['number'])\n",
    "data_corr = data_num[['Age', 'DistanceFromHome',\n",
    "                        'MonthlyIncome', 'NumCompaniesWorked', 'PercentSalaryHike',\n",
    "                        'TotalWorkingYears',\n",
    "                        'YearsAtCompany', 'YearsInCurrentRole', 'YearsSinceLastPromotion',\n",
    "                        'YearsWithCurrManager']]"
   ]
  },
  {
   "cell_type": "code",
   "execution_count": 11,
   "metadata": {},
   "outputs": [],
   "source": [
    "import seaborn as sns\n",
    "import plotly.express as px\n"
   ]
  },
  {
   "cell_type": "code",
   "execution_count": 12,
   "metadata": {},
   "outputs": [
    {
     "data": {
      "text/plain": [
       "<Axes: >"
      ]
     },
     "execution_count": 12,
     "metadata": {},
     "output_type": "execute_result"
    },
    {
     "data": {
      "image/png": "[encoded data removed]",
      "text/plain": [
       "<Figure size 640x480 with 2 Axes>"
      ]
     },
     "metadata": {},
     "output_type": "display_data"
    }
   ],
   "source": [
    "# Calculate the correlation matrix\n",
    "correlation_matrix = round(data_corr.corr(),2)\n",
    "\n",
    "# Create a heatmap\n",
    "sns.heatmap(correlation_matrix, annot=True, cmap='RdBu', vmin=-1, vmax=1)"
   ]
  },
  {
   "cell_type": "code",
   "execution_count": 13,
   "metadata": {},
   "outputs": [],
   "source": [
    "from sklearn.model_selection import train_test_split"
   ]
  },
  {
   "cell_type": "code",
   "execution_count": 14,
   "metadata": {},
   "outputs": [
    {
     "name": "stdout",
     "output_type": "stream",
     "text": [
      "<class 'pandas.core.frame.DataFrame'>\n",
      "RangeIndex: 1470 entries, 0 to 1469\n",
      "Data columns (total 23 columns):\n",
      " #   Column                   Non-Null Count  Dtype \n",
      "---  ------                   --------------  ----- \n",
      " 0   Age                      1470 non-null   int64 \n",
      " 1   Gender                   1470 non-null   object\n",
      " 2   Attrition                1470 non-null   object\n",
      " 3   BusinessTravel           1470 non-null   object\n",
      " 4   Department               1470 non-null   object\n",
      " 5   DistanceFromHome         1470 non-null   int64 \n",
      " 6   EmployeeCount            1470 non-null   int64 \n",
      " 7   EmployeeNumber           1470 non-null   int64 \n",
      " 8   EnvironmentSatisfaction  1470 non-null   int64 \n",
      " 9   JobInvolvement           1470 non-null   int64 \n",
      " 10  JobRole                  1470 non-null   object\n",
      " 11  JobSatisfaction          1470 non-null   int64 \n",
      " 12  MonthlyIncome            1470 non-null   int64 \n",
      " 13  NumCompaniesWorked       1470 non-null   int64 \n",
      " 14  OverTime                 1470 non-null   object\n",
      " 15  PercentSalaryHike        1470 non-null   int64 \n",
      " 16  PerformanceRating        1470 non-null   int64 \n",
      " 17  TotalWorkingYears        1470 non-null   int64 \n",
      " 18  WorkLifeBalance          1470 non-null   int64 \n",
      " 19  YearsAtCompany           1470 non-null   int64 \n",
      " 20  YearsInCurrentRole       1470 non-null   int64 \n",
      " 21  YearsSinceLastPromotion  1470 non-null   int64 \n",
      " 22  YearsWithCurrManager     1470 non-null   int64 \n",
      "dtypes: int64(17), object(6)\n",
      "memory usage: 264.3+ KB\n"
     ]
    }
   ],
   "source": [
    "data.info()"
   ]
  },
  {
   "cell_type": "code",
   "execution_count": 15,
   "metadata": {},
   "outputs": [],
   "source": [
    "columns_to_dummy = ['BusinessTravel','OverTime','Attrition'] \n",
    "data_dummy = pd.get_dummies(data[columns_to_dummy])\n",
    "data_dummy = data_dummy[['BusinessTravel_Travel_Frequently','OverTime_Yes','Attrition_Yes']] "
   ]
  },
  {
   "cell_type": "code",
   "execution_count": 16,
   "metadata": {},
   "outputs": [],
   "source": [
    "df_backup = data"
   ]
  },
  {
   "cell_type": "code",
   "execution_count": 17,
   "metadata": {},
   "outputs": [],
   "source": [
    "data_reduced = data[['Age',\n",
    "                    #'DistanceFromHome','NumCompaniesWorked'\n",
    "                    'MonthlyIncome','PercentSalaryHike',\n",
    "                    'TotalWorkingYears',\n",
    "                    'YearsAtCompany', 'YearsInCurrentRole',\n",
    "                    #'YearsSinceLastPromotion',\n",
    "                    'YearsWithCurrManager']]"
   ]
  },
  {
   "cell_type": "code",
   "execution_count": 18,
   "metadata": {},
   "outputs": [],
   "source": [
    "data_final = pd.concat([data_reduced, data_dummy], axis=1)"
   ]
  },
  {
   "cell_type": "code",
   "execution_count": 19,
   "metadata": {},
   "outputs": [
    {
     "name": "stdout",
     "output_type": "stream",
     "text": [
      "<class 'pandas.core.frame.DataFrame'>\n",
      "RangeIndex: 1470 entries, 0 to 1469\n",
      "Data columns (total 10 columns):\n",
      " #   Column                            Non-Null Count  Dtype\n",
      "---  ------                            --------------  -----\n",
      " 0   Age                               1470 non-null   int64\n",
      " 1   MonthlyIncome                     1470 non-null   int64\n",
      " 2   PercentSalaryHike                 1470 non-null   int64\n",
      " 3   TotalWorkingYears                 1470 non-null   int64\n",
      " 4   YearsAtCompany                    1470 non-null   int64\n",
      " 5   YearsInCurrentRole                1470 non-null   int64\n",
      " 6   YearsWithCurrManager              1470 non-null   int64\n",
      " 7   BusinessTravel_Travel_Frequently  1470 non-null   uint8\n",
      " 8   OverTime_Yes                      1470 non-null   uint8\n",
      " 9   Attrition_Yes                     1470 non-null   uint8\n",
      "dtypes: int64(7), uint8(3)\n",
      "memory usage: 84.8 KB\n"
     ]
    }
   ],
   "source": [
    "data_final.info()"
   ]
  },
  {
   "cell_type": "code",
   "execution_count": 20,
   "metadata": {},
   "outputs": [
    {
     "name": "stdout",
     "output_type": "stream",
     "text": [
      "<class 'pandas.core.frame.DataFrame'>\n",
      "RangeIndex: 1470 entries, 0 to 1469\n",
      "Data columns (total 10 columns):\n",
      " #   Column                            Non-Null Count  Dtype\n",
      "---  ------                            --------------  -----\n",
      " 0   Age                               1470 non-null   int64\n",
      " 1   MonthlyIncome                     1470 non-null   int64\n",
      " 2   PercentSalaryHike                 1470 non-null   int64\n",
      " 3   TotalWorkingYears                 1470 non-null   int64\n",
      " 4   YearsAtCompany                    1470 non-null   int64\n",
      " 5   YearsInCurrentRole                1470 non-null   int64\n",
      " 6   YearsWithCurrManager              1470 non-null   int64\n",
      " 7   BusinessTravel_Travel_Frequently  1470 non-null   uint8\n",
      " 8   OverTime_Yes                      1470 non-null   uint8\n",
      " 9   Attrition_Yes                     1470 non-null   uint8\n",
      "dtypes: int64(7), uint8(3)\n",
      "memory usage: 84.8 KB\n"
     ]
    }
   ],
   "source": [
    "data_final.info()"
   ]
  },
  {
   "attachments": {},
   "cell_type": "markdown",
   "metadata": {},
   "source": [
    "# Construcción del modelo"
   ]
  },
  {
   "attachments": {},
   "cell_type": "markdown",
   "metadata": {},
   "source": [
    "## Split en train y test"
   ]
  },
  {
   "cell_type": "code",
   "execution_count": 21,
   "metadata": {},
   "outputs": [],
   "source": [
    "import numpy as np\n",
    "from imblearn.over_sampling import SMOTE"
   ]
  },
  {
   "cell_type": "code",
   "execution_count": 22,
   "metadata": {},
   "outputs": [],
   "source": [
    "# la variable a predecir es 'dias_ocupado'\n",
    "y = data_final['Attrition_Yes']\n",
    "X = data_final.drop('Attrition_Yes', axis=1)\n",
    "\n",
    "# convert to numpy array\n",
    "X = np.array(X)\n",
    "y = np.array(y)"
   ]
  },
  {
   "cell_type": "code",
   "execution_count": 23,
   "metadata": {},
   "outputs": [
    {
     "name": "stdout",
     "output_type": "stream",
     "text": [
      "(1176, 9) (294, 9) (1176,) (294,)\n"
     ]
    }
   ],
   "source": [
    "# split into X_train and X_test\n",
    "# always split into X_train, X_test first THEN apply minmax scaler\n",
    "X_train, X_test, y_train, y_test = train_test_split(X, y,\n",
    "                                                    test_size=0.2,\n",
    "                                                    random_state=123)\n",
    "print(X_train.shape, X_test.shape, y_train.shape, y_test.shape)"
   ]
  },
  {
   "cell_type": "code",
   "execution_count": 24,
   "metadata": {},
   "outputs": [
    {
     "name": "stdout",
     "output_type": "stream",
     "text": [
      "(1954, 9) (1954,)\n"
     ]
    }
   ],
   "source": [
    "# Applying SMOTE to oversample the minority class\n",
    "smote = SMOTE(sampling_strategy='minority', random_state=42)\n",
    "X_resampled, y_resampled = smote.fit_resample(X_train, y_train)\n",
    "print(X_resampled.shape, y_resampled.shape)"
   ]
  },
  {
   "attachments": {},
   "cell_type": "markdown",
   "metadata": {},
   "source": [
    "## Random Forest"
   ]
  },
  {
   "cell_type": "code",
   "execution_count": 25,
   "metadata": {},
   "outputs": [],
   "source": [
    "from sklearn.ensemble import RandomForestClassifier\n",
    "from sklearn.metrics import accuracy_score, precision_score, recall_score, f1_score, roc_auc_score, confusion_matrix"
   ]
  },
  {
   "cell_type": "code",
   "execution_count": 29,
   "metadata": {},
   "outputs": [],
   "source": [
    "def FunctionFindBestParamsRF(X_train, y_train, X_test, y_test):\n",
    "    \n",
    "    # Defino los hiperparámetros a evaluar\n",
    "    n_estimators = [100,200,300]#[int(x) for x in np.linspace(start = 50, stop = 800, num = 6)]\n",
    "    max_depth = [None, 5, 10]  # Maximum depth of each tree\n",
    "    min_samples_split = [2, 5, 10]\n",
    "\n",
    "    SearchResultsData=pd.DataFrame(columns=['TrialNumber', 'Parameters','accuracy','sensitivity','specificity','confusion_mat'])\n",
    "    \n",
    "    # Inicializo los trials\n",
    "    TrialNumber=0\n",
    "    for n_estimators_trial in n_estimators:\n",
    "        for max_depth_trial in max_depth:\n",
    "            for min_samples_split_trial in min_samples_split:\n",
    "                TrialNumber+=1\n",
    "                \n",
    "                # Creo el RANDOM FOREST\n",
    "                model = RandomForestClassifier(n_estimators=n_estimators_trial,\n",
    "                                               max_depth=max_depth_trial,\n",
    "                                               min_samples_split=min_samples_split_trial,\n",
    "                                               class_weight={0: 1, 1: 5},\n",
    "                                               random_state=42)\n",
    "\n",
    "                # Entreno el modelo\n",
    "                model.fit(X_train, y_train)\n",
    "\n",
    "                # Hago las predicciones\n",
    "                y_pred = model.predict(X_test)\n",
    "\n",
    "                # Evalúo el modelo\n",
    "                accuracy = accuracy_score(y_test, y_pred)\n",
    "                #precision = precision_score(y_test, y_pred)\n",
    "\n",
    "                confusion_mat = confusion_matrix(y_test, y_pred)\n",
    "                tn, fp, fn, tp = confusion_matrix(y_test, y_pred).ravel()\n",
    "                sensitivity = tp / (tp+fn)\n",
    "                specificity = tn / (tn+fp)\n",
    "\n",
    "                # Imprimo los resultados de la iteración actual\n",
    "                print(TrialNumber, 'Parameters:','n_estimators:', n_estimators_trial,'-', 'max_depth:',max_depth_trial,'min_samples_split:',min_samples_split_trial)\n",
    "                \n",
    "                # Agrego la información del modelo a la tabla de modelos\n",
    "                SearchResultsData=SearchResultsData.append(pd.DataFrame(data=[[TrialNumber, str(n_estimators_trial)+'-'+\n",
    "                                                                             str(max_depth_trial)+'-'+str(min_samples_split_trial), accuracy,sensitivity,specificity,confusion_mat]],\n",
    "                                                                        columns=['TrialNumber', 'Parameters','accuracy','sensitivity','specificity','confusion_mat'] ))     \n",
    "    return(SearchResultsData)"
   ]
  },
  {
   "attachments": {},
   "cell_type": "markdown",
   "metadata": {},
   "source": [
    "### Prueba con el split de SMOTE"
   ]
  },
  {
   "cell_type": "code",
   "execution_count": null,
   "metadata": {},
   "outputs": [],
   "source": [
    "modelosRF_smote=FunctionFindBestParamsRF(X_resampled, y_resampled, X_test, y_test) # tenes que comentar el hiperparametro de class_weight"
   ]
  },
  {
   "cell_type": "code",
   "execution_count": 28,
   "metadata": {},
   "outputs": [
    {
     "data": {
      "text/html": [
       "<div>\n",
       "<style scoped>\n",
       "    .dataframe tbody tr th:only-of-type {\n",
       "        vertical-align: middle;\n",
       "    }\n",
       "\n",
       "    .dataframe tbody tr th {\n",
       "        vertical-align: top;\n",
       "    }\n",
       "\n",
       "    .dataframe thead th {\n",
       "        text-align: right;\n",
       "    }\n",
       "</style>\n",
       "<table border=\"1\" class=\"dataframe\">\n",
       "  <thead>\n",
       "    <tr style=\"text-align: right;\">\n",
       "      <th></th>\n",
       "      <th>TrialNumber</th>\n",
       "      <th>Parameters</th>\n",
       "      <th>accuracy</th>\n",
       "      <th>sensitivity</th>\n",
       "      <th>specificity</th>\n",
       "      <th>confusion_mat</th>\n",
       "    </tr>\n",
       "  </thead>\n",
       "  <tbody>\n",
       "    <tr>\n",
       "      <th>0</th>\n",
       "      <td>1</td>\n",
       "      <td>100-None-2</td>\n",
       "      <td>0.812925</td>\n",
       "      <td>0.421053</td>\n",
       "      <td>0.871094</td>\n",
       "      <td>[[223, 33], [22, 16]]</td>\n",
       "    </tr>\n",
       "    <tr>\n",
       "      <th>0</th>\n",
       "      <td>2</td>\n",
       "      <td>100-None-5</td>\n",
       "      <td>0.806122</td>\n",
       "      <td>0.447368</td>\n",
       "      <td>0.859375</td>\n",
       "      <td>[[220, 36], [21, 17]]</td>\n",
       "    </tr>\n",
       "    <tr>\n",
       "      <th>0</th>\n",
       "      <td>3</td>\n",
       "      <td>100-None-10</td>\n",
       "      <td>0.816327</td>\n",
       "      <td>0.447368</td>\n",
       "      <td>0.871094</td>\n",
       "      <td>[[223, 33], [21, 17]]</td>\n",
       "    </tr>\n",
       "    <tr>\n",
       "      <th>0</th>\n",
       "      <td>4</td>\n",
       "      <td>100-5-2</td>\n",
       "      <td>0.724490</td>\n",
       "      <td>0.500000</td>\n",
       "      <td>0.757812</td>\n",
       "      <td>[[194, 62], [19, 19]]</td>\n",
       "    </tr>\n",
       "    <tr>\n",
       "      <th>0</th>\n",
       "      <td>5</td>\n",
       "      <td>100-5-5</td>\n",
       "      <td>0.717687</td>\n",
       "      <td>0.500000</td>\n",
       "      <td>0.750000</td>\n",
       "      <td>[[192, 64], [19, 19]]</td>\n",
       "    </tr>\n",
       "    <tr>\n",
       "      <th>0</th>\n",
       "      <td>6</td>\n",
       "      <td>100-5-10</td>\n",
       "      <td>0.724490</td>\n",
       "      <td>0.526316</td>\n",
       "      <td>0.753906</td>\n",
       "      <td>[[193, 63], [18, 20]]</td>\n",
       "    </tr>\n",
       "    <tr>\n",
       "      <th>0</th>\n",
       "      <td>7</td>\n",
       "      <td>100-10-2</td>\n",
       "      <td>0.799320</td>\n",
       "      <td>0.447368</td>\n",
       "      <td>0.851562</td>\n",
       "      <td>[[218, 38], [21, 17]]</td>\n",
       "    </tr>\n",
       "    <tr>\n",
       "      <th>0</th>\n",
       "      <td>8</td>\n",
       "      <td>100-10-5</td>\n",
       "      <td>0.802721</td>\n",
       "      <td>0.447368</td>\n",
       "      <td>0.855469</td>\n",
       "      <td>[[219, 37], [21, 17]]</td>\n",
       "    </tr>\n",
       "    <tr>\n",
       "      <th>0</th>\n",
       "      <td>9</td>\n",
       "      <td>100-10-10</td>\n",
       "      <td>0.802721</td>\n",
       "      <td>0.473684</td>\n",
       "      <td>0.851562</td>\n",
       "      <td>[[218, 38], [20, 18]]</td>\n",
       "    </tr>\n",
       "    <tr>\n",
       "      <th>0</th>\n",
       "      <td>10</td>\n",
       "      <td>200-None-2</td>\n",
       "      <td>0.816327</td>\n",
       "      <td>0.421053</td>\n",
       "      <td>0.875000</td>\n",
       "      <td>[[224, 32], [22, 16]]</td>\n",
       "    </tr>\n",
       "    <tr>\n",
       "      <th>0</th>\n",
       "      <td>11</td>\n",
       "      <td>200-None-5</td>\n",
       "      <td>0.812925</td>\n",
       "      <td>0.447368</td>\n",
       "      <td>0.867188</td>\n",
       "      <td>[[222, 34], [21, 17]]</td>\n",
       "    </tr>\n",
       "    <tr>\n",
       "      <th>0</th>\n",
       "      <td>12</td>\n",
       "      <td>200-None-10</td>\n",
       "      <td>0.819728</td>\n",
       "      <td>0.447368</td>\n",
       "      <td>0.875000</td>\n",
       "      <td>[[224, 32], [21, 17]]</td>\n",
       "    </tr>\n",
       "    <tr>\n",
       "      <th>0</th>\n",
       "      <td>13</td>\n",
       "      <td>200-5-2</td>\n",
       "      <td>0.727891</td>\n",
       "      <td>0.500000</td>\n",
       "      <td>0.761719</td>\n",
       "      <td>[[195, 61], [19, 19]]</td>\n",
       "    </tr>\n",
       "    <tr>\n",
       "      <th>0</th>\n",
       "      <td>14</td>\n",
       "      <td>200-5-5</td>\n",
       "      <td>0.717687</td>\n",
       "      <td>0.500000</td>\n",
       "      <td>0.750000</td>\n",
       "      <td>[[192, 64], [19, 19]]</td>\n",
       "    </tr>\n",
       "    <tr>\n",
       "      <th>0</th>\n",
       "      <td>15</td>\n",
       "      <td>200-5-10</td>\n",
       "      <td>0.727891</td>\n",
       "      <td>0.500000</td>\n",
       "      <td>0.761719</td>\n",
       "      <td>[[195, 61], [19, 19]]</td>\n",
       "    </tr>\n",
       "    <tr>\n",
       "      <th>0</th>\n",
       "      <td>16</td>\n",
       "      <td>200-10-2</td>\n",
       "      <td>0.792517</td>\n",
       "      <td>0.447368</td>\n",
       "      <td>0.843750</td>\n",
       "      <td>[[216, 40], [21, 17]]</td>\n",
       "    </tr>\n",
       "    <tr>\n",
       "      <th>0</th>\n",
       "      <td>17</td>\n",
       "      <td>200-10-5</td>\n",
       "      <td>0.795918</td>\n",
       "      <td>0.447368</td>\n",
       "      <td>0.847656</td>\n",
       "      <td>[[217, 39], [21, 17]]</td>\n",
       "    </tr>\n",
       "    <tr>\n",
       "      <th>0</th>\n",
       "      <td>18</td>\n",
       "      <td>200-10-10</td>\n",
       "      <td>0.785714</td>\n",
       "      <td>0.447368</td>\n",
       "      <td>0.835938</td>\n",
       "      <td>[[214, 42], [21, 17]]</td>\n",
       "    </tr>\n",
       "    <tr>\n",
       "      <th>0</th>\n",
       "      <td>19</td>\n",
       "      <td>300-None-2</td>\n",
       "      <td>0.823129</td>\n",
       "      <td>0.447368</td>\n",
       "      <td>0.878906</td>\n",
       "      <td>[[225, 31], [21, 17]]</td>\n",
       "    </tr>\n",
       "    <tr>\n",
       "      <th>0</th>\n",
       "      <td>20</td>\n",
       "      <td>300-None-5</td>\n",
       "      <td>0.812925</td>\n",
       "      <td>0.447368</td>\n",
       "      <td>0.867188</td>\n",
       "      <td>[[222, 34], [21, 17]]</td>\n",
       "    </tr>\n",
       "    <tr>\n",
       "      <th>0</th>\n",
       "      <td>21</td>\n",
       "      <td>300-None-10</td>\n",
       "      <td>0.809524</td>\n",
       "      <td>0.447368</td>\n",
       "      <td>0.863281</td>\n",
       "      <td>[[221, 35], [21, 17]]</td>\n",
       "    </tr>\n",
       "    <tr>\n",
       "      <th>0</th>\n",
       "      <td>22</td>\n",
       "      <td>300-5-2</td>\n",
       "      <td>0.721088</td>\n",
       "      <td>0.500000</td>\n",
       "      <td>0.753906</td>\n",
       "      <td>[[193, 63], [19, 19]]</td>\n",
       "    </tr>\n",
       "    <tr>\n",
       "      <th>0</th>\n",
       "      <td>23</td>\n",
       "      <td>300-5-5</td>\n",
       "      <td>0.717687</td>\n",
       "      <td>0.500000</td>\n",
       "      <td>0.750000</td>\n",
       "      <td>[[192, 64], [19, 19]]</td>\n",
       "    </tr>\n",
       "    <tr>\n",
       "      <th>0</th>\n",
       "      <td>24</td>\n",
       "      <td>300-5-10</td>\n",
       "      <td>0.721088</td>\n",
       "      <td>0.500000</td>\n",
       "      <td>0.753906</td>\n",
       "      <td>[[193, 63], [19, 19]]</td>\n",
       "    </tr>\n",
       "    <tr>\n",
       "      <th>0</th>\n",
       "      <td>25</td>\n",
       "      <td>300-10-2</td>\n",
       "      <td>0.795918</td>\n",
       "      <td>0.447368</td>\n",
       "      <td>0.847656</td>\n",
       "      <td>[[217, 39], [21, 17]]</td>\n",
       "    </tr>\n",
       "    <tr>\n",
       "      <th>0</th>\n",
       "      <td>26</td>\n",
       "      <td>300-10-5</td>\n",
       "      <td>0.795918</td>\n",
       "      <td>0.447368</td>\n",
       "      <td>0.847656</td>\n",
       "      <td>[[217, 39], [21, 17]]</td>\n",
       "    </tr>\n",
       "    <tr>\n",
       "      <th>0</th>\n",
       "      <td>27</td>\n",
       "      <td>300-10-10</td>\n",
       "      <td>0.792517</td>\n",
       "      <td>0.447368</td>\n",
       "      <td>0.843750</td>\n",
       "      <td>[[216, 40], [21, 17]]</td>\n",
       "    </tr>\n",
       "  </tbody>\n",
       "</table>\n",
       "</div>"
      ],
      "text/plain": [
       "  TrialNumber   Parameters  accuracy  sensitivity  specificity  \\\n",
       "0           1   100-None-2  0.812925     0.421053     0.871094   \n",
       "0           2   100-None-5  0.806122     0.447368     0.859375   \n",
       "0           3  100-None-10  0.816327     0.447368     0.871094   \n",
       "0           4      100-5-2  0.724490     0.500000     0.757812   \n",
       "0           5      100-5-5  0.717687     0.500000     0.750000   \n",
       "0           6     100-5-10  0.724490     0.526316     0.753906   \n",
       "0           7     100-10-2  0.799320     0.447368     0.851562   \n",
       "0           8     100-10-5  0.802721     0.447368     0.855469   \n",
       "0           9    100-10-10  0.802721     0.473684     0.851562   \n",
       "0          10   200-None-2  0.816327     0.421053     0.875000   \n",
       "0          11   200-None-5  0.812925     0.447368     0.867188   \n",
       "0          12  200-None-10  0.819728     0.447368     0.875000   \n",
       "0          13      200-5-2  0.727891     0.500000     0.761719   \n",
       "0          14      200-5-5  0.717687     0.500000     0.750000   \n",
       "0          15     200-5-10  0.727891     0.500000     0.761719   \n",
       "0          16     200-10-2  0.792517     0.447368     0.843750   \n",
       "0          17     200-10-5  0.795918     0.447368     0.847656   \n",
       "0          18    200-10-10  0.785714     0.447368     0.835938   \n",
       "0          19   300-None-2  0.823129     0.447368     0.878906   \n",
       "0          20   300-None-5  0.812925     0.447368     0.867188   \n",
       "0          21  300-None-10  0.809524     0.447368     0.863281   \n",
       "0          22      300-5-2  0.721088     0.500000     0.753906   \n",
       "0          23      300-5-5  0.717687     0.500000     0.750000   \n",
       "0          24     300-5-10  0.721088     0.500000     0.753906   \n",
       "0          25     300-10-2  0.795918     0.447368     0.847656   \n",
       "0          26     300-10-5  0.795918     0.447368     0.847656   \n",
       "0          27    300-10-10  0.792517     0.447368     0.843750   \n",
       "\n",
       "           confusion_mat  \n",
       "0  [[223, 33], [22, 16]]  \n",
       "0  [[220, 36], [21, 17]]  \n",
       "0  [[223, 33], [21, 17]]  \n",
       "0  [[194, 62], [19, 19]]  \n",
       "0  [[192, 64], [19, 19]]  \n",
       "0  [[193, 63], [18, 20]]  \n",
       "0  [[218, 38], [21, 17]]  \n",
       "0  [[219, 37], [21, 17]]  \n",
       "0  [[218, 38], [20, 18]]  \n",
       "0  [[224, 32], [22, 16]]  \n",
       "0  [[222, 34], [21, 17]]  \n",
       "0  [[224, 32], [21, 17]]  \n",
       "0  [[195, 61], [19, 19]]  \n",
       "0  [[192, 64], [19, 19]]  \n",
       "0  [[195, 61], [19, 19]]  \n",
       "0  [[216, 40], [21, 17]]  \n",
       "0  [[217, 39], [21, 17]]  \n",
       "0  [[214, 42], [21, 17]]  \n",
       "0  [[225, 31], [21, 17]]  \n",
       "0  [[222, 34], [21, 17]]  \n",
       "0  [[221, 35], [21, 17]]  \n",
       "0  [[193, 63], [19, 19]]  \n",
       "0  [[192, 64], [19, 19]]  \n",
       "0  [[193, 63], [19, 19]]  \n",
       "0  [[217, 39], [21, 17]]  \n",
       "0  [[217, 39], [21, 17]]  \n",
       "0  [[216, 40], [21, 17]]  "
      ]
     },
     "execution_count": 28,
     "metadata": {},
     "output_type": "execute_result"
    }
   ],
   "source": [
    "modelosRF_smote"
   ]
  },
  {
   "attachments": {},
   "cell_type": "markdown",
   "metadata": {},
   "source": [
    "### Prueba con el split normal + class_weights"
   ]
  },
  {
   "cell_type": "code",
   "execution_count": null,
   "metadata": {},
   "outputs": [],
   "source": [
    "modelosRF_weight=FunctionFindBestParamsRF(X_train, y_train, X_test, y_test) # tenes que descomentar el hiperparametro de class_weight"
   ]
  },
  {
   "cell_type": "code",
   "execution_count": 31,
   "metadata": {},
   "outputs": [
    {
     "data": {
      "text/html": [
       "<div>\n",
       "<style scoped>\n",
       "    .dataframe tbody tr th:only-of-type {\n",
       "        vertical-align: middle;\n",
       "    }\n",
       "\n",
       "    .dataframe tbody tr th {\n",
       "        vertical-align: top;\n",
       "    }\n",
       "\n",
       "    .dataframe thead th {\n",
       "        text-align: right;\n",
       "    }\n",
       "</style>\n",
       "<table border=\"1\" class=\"dataframe\">\n",
       "  <thead>\n",
       "    <tr style=\"text-align: right;\">\n",
       "      <th></th>\n",
       "      <th>TrialNumber</th>\n",
       "      <th>Parameters</th>\n",
       "      <th>accuracy</th>\n",
       "      <th>sensitivity</th>\n",
       "      <th>specificity</th>\n",
       "      <th>confusion_mat</th>\n",
       "    </tr>\n",
       "  </thead>\n",
       "  <tbody>\n",
       "    <tr>\n",
       "      <th>0</th>\n",
       "      <td>1</td>\n",
       "      <td>100-None-2</td>\n",
       "      <td>0.880952</td>\n",
       "      <td>0.210526</td>\n",
       "      <td>0.980469</td>\n",
       "      <td>[[251, 5], [30, 8]]</td>\n",
       "    </tr>\n",
       "    <tr>\n",
       "      <th>0</th>\n",
       "      <td>2</td>\n",
       "      <td>100-None-5</td>\n",
       "      <td>0.884354</td>\n",
       "      <td>0.263158</td>\n",
       "      <td>0.976562</td>\n",
       "      <td>[[250, 6], [28, 10]]</td>\n",
       "    </tr>\n",
       "    <tr>\n",
       "      <th>0</th>\n",
       "      <td>3</td>\n",
       "      <td>100-None-10</td>\n",
       "      <td>0.867347</td>\n",
       "      <td>0.315789</td>\n",
       "      <td>0.949219</td>\n",
       "      <td>[[243, 13], [26, 12]]</td>\n",
       "    </tr>\n",
       "    <tr>\n",
       "      <th>0</th>\n",
       "      <td>4</td>\n",
       "      <td>100-5-2</td>\n",
       "      <td>0.819728</td>\n",
       "      <td>0.473684</td>\n",
       "      <td>0.871094</td>\n",
       "      <td>[[223, 33], [20, 18]]</td>\n",
       "    </tr>\n",
       "    <tr>\n",
       "      <th>0</th>\n",
       "      <td>5</td>\n",
       "      <td>100-5-5</td>\n",
       "      <td>0.819728</td>\n",
       "      <td>0.447368</td>\n",
       "      <td>0.875000</td>\n",
       "      <td>[[224, 32], [21, 17]]</td>\n",
       "    </tr>\n",
       "    <tr>\n",
       "      <th>0</th>\n",
       "      <td>6</td>\n",
       "      <td>100-5-10</td>\n",
       "      <td>0.819728</td>\n",
       "      <td>0.473684</td>\n",
       "      <td>0.871094</td>\n",
       "      <td>[[223, 33], [20, 18]]</td>\n",
       "    </tr>\n",
       "    <tr>\n",
       "      <th>0</th>\n",
       "      <td>7</td>\n",
       "      <td>100-10-2</td>\n",
       "      <td>0.880952</td>\n",
       "      <td>0.289474</td>\n",
       "      <td>0.968750</td>\n",
       "      <td>[[248, 8], [27, 11]]</td>\n",
       "    </tr>\n",
       "    <tr>\n",
       "      <th>0</th>\n",
       "      <td>8</td>\n",
       "      <td>100-10-5</td>\n",
       "      <td>0.880952</td>\n",
       "      <td>0.289474</td>\n",
       "      <td>0.968750</td>\n",
       "      <td>[[248, 8], [27, 11]]</td>\n",
       "    </tr>\n",
       "    <tr>\n",
       "      <th>0</th>\n",
       "      <td>9</td>\n",
       "      <td>100-10-10</td>\n",
       "      <td>0.863946</td>\n",
       "      <td>0.342105</td>\n",
       "      <td>0.941406</td>\n",
       "      <td>[[241, 15], [25, 13]]</td>\n",
       "    </tr>\n",
       "    <tr>\n",
       "      <th>0</th>\n",
       "      <td>10</td>\n",
       "      <td>200-None-2</td>\n",
       "      <td>0.891156</td>\n",
       "      <td>0.263158</td>\n",
       "      <td>0.984375</td>\n",
       "      <td>[[252, 4], [28, 10]]</td>\n",
       "    </tr>\n",
       "    <tr>\n",
       "      <th>0</th>\n",
       "      <td>11</td>\n",
       "      <td>200-None-5</td>\n",
       "      <td>0.887755</td>\n",
       "      <td>0.289474</td>\n",
       "      <td>0.976562</td>\n",
       "      <td>[[250, 6], [27, 11]]</td>\n",
       "    </tr>\n",
       "    <tr>\n",
       "      <th>0</th>\n",
       "      <td>12</td>\n",
       "      <td>200-None-10</td>\n",
       "      <td>0.877551</td>\n",
       "      <td>0.342105</td>\n",
       "      <td>0.957031</td>\n",
       "      <td>[[245, 11], [25, 13]]</td>\n",
       "    </tr>\n",
       "    <tr>\n",
       "      <th>0</th>\n",
       "      <td>13</td>\n",
       "      <td>200-5-2</td>\n",
       "      <td>0.833333</td>\n",
       "      <td>0.500000</td>\n",
       "      <td>0.882812</td>\n",
       "      <td>[[226, 30], [19, 19]]</td>\n",
       "    </tr>\n",
       "    <tr>\n",
       "      <th>0</th>\n",
       "      <td>14</td>\n",
       "      <td>200-5-5</td>\n",
       "      <td>0.829932</td>\n",
       "      <td>0.500000</td>\n",
       "      <td>0.878906</td>\n",
       "      <td>[[225, 31], [19, 19]]</td>\n",
       "    </tr>\n",
       "    <tr>\n",
       "      <th>0</th>\n",
       "      <td>15</td>\n",
       "      <td>200-5-10</td>\n",
       "      <td>0.823129</td>\n",
       "      <td>0.447368</td>\n",
       "      <td>0.878906</td>\n",
       "      <td>[[225, 31], [21, 17]]</td>\n",
       "    </tr>\n",
       "    <tr>\n",
       "      <th>0</th>\n",
       "      <td>16</td>\n",
       "      <td>200-10-2</td>\n",
       "      <td>0.884354</td>\n",
       "      <td>0.289474</td>\n",
       "      <td>0.972656</td>\n",
       "      <td>[[249, 7], [27, 11]]</td>\n",
       "    </tr>\n",
       "    <tr>\n",
       "      <th>0</th>\n",
       "      <td>17</td>\n",
       "      <td>200-10-5</td>\n",
       "      <td>0.887755</td>\n",
       "      <td>0.342105</td>\n",
       "      <td>0.968750</td>\n",
       "      <td>[[248, 8], [25, 13]]</td>\n",
       "    </tr>\n",
       "    <tr>\n",
       "      <th>0</th>\n",
       "      <td>18</td>\n",
       "      <td>200-10-10</td>\n",
       "      <td>0.870748</td>\n",
       "      <td>0.368421</td>\n",
       "      <td>0.945312</td>\n",
       "      <td>[[242, 14], [24, 14]]</td>\n",
       "    </tr>\n",
       "    <tr>\n",
       "      <th>0</th>\n",
       "      <td>19</td>\n",
       "      <td>300-None-2</td>\n",
       "      <td>0.891156</td>\n",
       "      <td>0.289474</td>\n",
       "      <td>0.980469</td>\n",
       "      <td>[[251, 5], [27, 11]]</td>\n",
       "    </tr>\n",
       "    <tr>\n",
       "      <th>0</th>\n",
       "      <td>20</td>\n",
       "      <td>300-None-5</td>\n",
       "      <td>0.887755</td>\n",
       "      <td>0.289474</td>\n",
       "      <td>0.976562</td>\n",
       "      <td>[[250, 6], [27, 11]]</td>\n",
       "    </tr>\n",
       "    <tr>\n",
       "      <th>0</th>\n",
       "      <td>21</td>\n",
       "      <td>300-None-10</td>\n",
       "      <td>0.874150</td>\n",
       "      <td>0.342105</td>\n",
       "      <td>0.953125</td>\n",
       "      <td>[[244, 12], [25, 13]]</td>\n",
       "    </tr>\n",
       "    <tr>\n",
       "      <th>0</th>\n",
       "      <td>22</td>\n",
       "      <td>300-5-2</td>\n",
       "      <td>0.816327</td>\n",
       "      <td>0.447368</td>\n",
       "      <td>0.871094</td>\n",
       "      <td>[[223, 33], [21, 17]]</td>\n",
       "    </tr>\n",
       "    <tr>\n",
       "      <th>0</th>\n",
       "      <td>23</td>\n",
       "      <td>300-5-5</td>\n",
       "      <td>0.819728</td>\n",
       "      <td>0.447368</td>\n",
       "      <td>0.875000</td>\n",
       "      <td>[[224, 32], [21, 17]]</td>\n",
       "    </tr>\n",
       "    <tr>\n",
       "      <th>0</th>\n",
       "      <td>24</td>\n",
       "      <td>300-5-10</td>\n",
       "      <td>0.823129</td>\n",
       "      <td>0.447368</td>\n",
       "      <td>0.878906</td>\n",
       "      <td>[[225, 31], [21, 17]]</td>\n",
       "    </tr>\n",
       "    <tr>\n",
       "      <th>0</th>\n",
       "      <td>25</td>\n",
       "      <td>300-10-2</td>\n",
       "      <td>0.884354</td>\n",
       "      <td>0.289474</td>\n",
       "      <td>0.972656</td>\n",
       "      <td>[[249, 7], [27, 11]]</td>\n",
       "    </tr>\n",
       "    <tr>\n",
       "      <th>0</th>\n",
       "      <td>26</td>\n",
       "      <td>300-10-5</td>\n",
       "      <td>0.884354</td>\n",
       "      <td>0.342105</td>\n",
       "      <td>0.964844</td>\n",
       "      <td>[[247, 9], [25, 13]]</td>\n",
       "    </tr>\n",
       "    <tr>\n",
       "      <th>0</th>\n",
       "      <td>27</td>\n",
       "      <td>300-10-10</td>\n",
       "      <td>0.857143</td>\n",
       "      <td>0.368421</td>\n",
       "      <td>0.929688</td>\n",
       "      <td>[[238, 18], [24, 14]]</td>\n",
       "    </tr>\n",
       "  </tbody>\n",
       "</table>\n",
       "</div>"
      ],
      "text/plain": [
       "  TrialNumber   Parameters  accuracy  sensitivity  specificity  \\\n",
       "0           1   100-None-2  0.880952     0.210526     0.980469   \n",
       "0           2   100-None-5  0.884354     0.263158     0.976562   \n",
       "0           3  100-None-10  0.867347     0.315789     0.949219   \n",
       "0           4      100-5-2  0.819728     0.473684     0.871094   \n",
       "0           5      100-5-5  0.819728     0.447368     0.875000   \n",
       "0           6     100-5-10  0.819728     0.473684     0.871094   \n",
       "0           7     100-10-2  0.880952     0.289474     0.968750   \n",
       "0           8     100-10-5  0.880952     0.289474     0.968750   \n",
       "0           9    100-10-10  0.863946     0.342105     0.941406   \n",
       "0          10   200-None-2  0.891156     0.263158     0.984375   \n",
       "0          11   200-None-5  0.887755     0.289474     0.976562   \n",
       "0          12  200-None-10  0.877551     0.342105     0.957031   \n",
       "0          13      200-5-2  0.833333     0.500000     0.882812   \n",
       "0          14      200-5-5  0.829932     0.500000     0.878906   \n",
       "0          15     200-5-10  0.823129     0.447368     0.878906   \n",
       "0          16     200-10-2  0.884354     0.289474     0.972656   \n",
       "0          17     200-10-5  0.887755     0.342105     0.968750   \n",
       "0          18    200-10-10  0.870748     0.368421     0.945312   \n",
       "0          19   300-None-2  0.891156     0.289474     0.980469   \n",
       "0          20   300-None-5  0.887755     0.289474     0.976562   \n",
       "0          21  300-None-10  0.874150     0.342105     0.953125   \n",
       "0          22      300-5-2  0.816327     0.447368     0.871094   \n",
       "0          23      300-5-5  0.819728     0.447368     0.875000   \n",
       "0          24     300-5-10  0.823129     0.447368     0.878906   \n",
       "0          25     300-10-2  0.884354     0.289474     0.972656   \n",
       "0          26     300-10-5  0.884354     0.342105     0.964844   \n",
       "0          27    300-10-10  0.857143     0.368421     0.929688   \n",
       "\n",
       "           confusion_mat  \n",
       "0    [[251, 5], [30, 8]]  \n",
       "0   [[250, 6], [28, 10]]  \n",
       "0  [[243, 13], [26, 12]]  \n",
       "0  [[223, 33], [20, 18]]  \n",
       "0  [[224, 32], [21, 17]]  \n",
       "0  [[223, 33], [20, 18]]  \n",
       "0   [[248, 8], [27, 11]]  \n",
       "0   [[248, 8], [27, 11]]  \n",
       "0  [[241, 15], [25, 13]]  \n",
       "0   [[252, 4], [28, 10]]  \n",
       "0   [[250, 6], [27, 11]]  \n",
       "0  [[245, 11], [25, 13]]  \n",
       "0  [[226, 30], [19, 19]]  \n",
       "0  [[225, 31], [19, 19]]  \n",
       "0  [[225, 31], [21, 17]]  \n",
       "0   [[249, 7], [27, 11]]  \n",
       "0   [[248, 8], [25, 13]]  \n",
       "0  [[242, 14], [24, 14]]  \n",
       "0   [[251, 5], [27, 11]]  \n",
       "0   [[250, 6], [27, 11]]  \n",
       "0  [[244, 12], [25, 13]]  \n",
       "0  [[223, 33], [21, 17]]  \n",
       "0  [[224, 32], [21, 17]]  \n",
       "0  [[225, 31], [21, 17]]  \n",
       "0   [[249, 7], [27, 11]]  \n",
       "0   [[247, 9], [25, 13]]  \n",
       "0  [[238, 18], [24, 14]]  "
      ]
     },
     "execution_count": 31,
     "metadata": {},
     "output_type": "execute_result"
    }
   ],
   "source": [
    "modelosRF_weight"
   ]
  },
  {
   "cell_type": "code",
   "execution_count": 32,
   "metadata": {},
   "outputs": [],
   "source": [
    "ganador = RandomForestClassifier(n_estimators=200,\n",
    "                                               max_depth=5,\n",
    "                                               min_samples_split=2,\n",
    "                                               class_weight={0: 1, 1: 5},\n",
    "                                               random_state=42)"
   ]
  },
  {
   "cell_type": "code",
   "execution_count": 33,
   "metadata": {},
   "outputs": [
    {
     "data": {
      "text/html": [
       "<style>#sk-container-id-1 {color: black;background-color: white;}#sk-container-id-1 pre{padding: 0;}#sk-container-id-1 div.sk-toggleable {background-color: white;}#sk-container-id-1 label.sk-toggleable__label {cursor: pointer;display: block;width: 100%;margin-bottom: 0;padding: 0.3em;box-sizing: border-box;text-align: center;}#sk-container-id-1 label.sk-toggleable__label-arrow:before {content: \"▸\";float: left;margin-right: 0.25em;color: #696969;}#sk-container-id-1 label.sk-toggleable__label-arrow:hover:before {color: black;}#sk-container-id-1 div.sk-estimator:hover label.sk-toggleable__label-arrow:before {color: black;}#sk-container-id-1 div.sk-toggleable__content {max-height: 0;max-width: 0;overflow: hidden;text-align: left;background-color: #f0f8ff;}#sk-container-id-1 div.sk-toggleable__content pre {margin: 0.2em;color: black;border-radius: 0.25em;background-color: #f0f8ff;}#sk-container-id-1 input.sk-toggleable__control:checked~div.sk-toggleable__content {max-height: 200px;max-width: 100%;overflow: auto;}#sk-container-id-1 input.sk-toggleable__control:checked~label.sk-toggleable__label-arrow:before {content: \"▾\";}#sk-container-id-1 div.sk-estimator input.sk-toggleable__control:checked~label.sk-toggleable__label {background-color: #d4ebff;}#sk-container-id-1 div.sk-label input.sk-toggleable__control:checked~label.sk-toggleable__label {background-color: #d4ebff;}#sk-container-id-1 input.sk-hidden--visually {border: 0;clip: rect(1px 1px 1px 1px);clip: rect(1px, 1px, 1px, 1px);height: 1px;margin: -1px;overflow: hidden;padding: 0;position: absolute;width: 1px;}#sk-container-id-1 div.sk-estimator {font-family: monospace;background-color: #f0f8ff;border: 1px dotted black;border-radius: 0.25em;box-sizing: border-box;margin-bottom: 0.5em;}#sk-container-id-1 div.sk-estimator:hover {background-color: #d4ebff;}#sk-container-id-1 div.sk-parallel-item::after {content: \"\";width: 100%;border-bottom: 1px solid gray;flex-grow: 1;}#sk-container-id-1 div.sk-label:hover label.sk-toggleable__label {background-color: #d4ebff;}#sk-container-id-1 div.sk-serial::before {content: \"\";position: absolute;border-left: 1px solid gray;box-sizing: border-box;top: 0;bottom: 0;left: 50%;z-index: 0;}#sk-container-id-1 div.sk-serial {display: flex;flex-direction: column;align-items: center;background-color: white;padding-right: 0.2em;padding-left: 0.2em;position: relative;}#sk-container-id-1 div.sk-item {position: relative;z-index: 1;}#sk-container-id-1 div.sk-parallel {display: flex;align-items: stretch;justify-content: center;background-color: white;position: relative;}#sk-container-id-1 div.sk-item::before, #sk-container-id-1 div.sk-parallel-item::before {content: \"\";position: absolute;border-left: 1px solid gray;box-sizing: border-box;top: 0;bottom: 0;left: 50%;z-index: -1;}#sk-container-id-1 div.sk-parallel-item {display: flex;flex-direction: column;z-index: 1;position: relative;background-color: white;}#sk-container-id-1 div.sk-parallel-item:first-child::after {align-self: flex-end;width: 50%;}#sk-container-id-1 div.sk-parallel-item:last-child::after {align-self: flex-start;width: 50%;}#sk-container-id-1 div.sk-parallel-item:only-child::after {width: 0;}#sk-container-id-1 div.sk-dashed-wrapped {border: 1px dashed gray;margin: 0 0.4em 0.5em 0.4em;box-sizing: border-box;padding-bottom: 0.4em;background-color: white;}#sk-container-id-1 div.sk-label label {font-family: monospace;font-weight: bold;display: inline-block;line-height: 1.2em;}#sk-container-id-1 div.sk-label-container {text-align: center;}#sk-container-id-1 div.sk-container {/* jupyter's `normalize.less` sets `[hidden] { display: none; }` but bootstrap.min.css set `[hidden] { display: none !important; }` so we also need the `!important` here to be able to override the default hidden behavior on the sphinx rendered scikit-learn.org. See: https://github.com/scikit-learn/scikit-learn/issues/21755 */display: inline-block !important;position: relative;}#sk-container-id-1 div.sk-text-repr-fallback {display: none;}</style><div id=\"sk-container-id-1\" class=\"sk-top-container\"><div class=\"sk-text-repr-fallback\"><pre>RandomForestClassifier(class_weight={0: 1, 1: 5}, max_depth=5, n_estimators=200,\n",
       "                       random_state=42)</pre><b>In a Jupyter environment, please rerun this cell to show the HTML representation or trust the notebook. <br />On GitHub, the HTML representation is unable to render, please try loading this page with nbviewer.org.</b></div><div class=\"sk-container\" hidden><div class=\"sk-item\"><div class=\"sk-estimator sk-toggleable\"><input class=\"sk-toggleable__control sk-hidden--visually\" id=\"sk-estimator-id-1\" type=\"checkbox\" checked><label for=\"sk-estimator-id-1\" class=\"sk-toggleable__label sk-toggleable__label-arrow\">RandomForestClassifier</label><div class=\"sk-toggleable__content\"><pre>RandomForestClassifier(class_weight={0: 1, 1: 5}, max_depth=5, n_estimators=200,\n",
       "                       random_state=42)</pre></div></div></div></div></div>"
      ],
      "text/plain": [
       "RandomForestClassifier(class_weight={0: 1, 1: 5}, max_depth=5, n_estimators=200,\n",
       "                       random_state=42)"
      ]
     },
     "execution_count": 33,
     "metadata": {},
     "output_type": "execute_result"
    }
   ],
   "source": [
    "ganador.fit(X_train, y_train)"
   ]
  },
  {
   "cell_type": "code",
   "execution_count": null,
   "metadata": {},
   "outputs": [],
   "source": [
    "# Retrieve the feature importances\n",
    "feature_importances = ganador.feature_importances_\n",
    "\n",
    "# Get the list of feature names\n",
    "features = data_final.drop('Attrition_Yes', axis=1).columns\n",
    "\n",
    "# Sort feature importances in descending order\n",
    "indices = np.argsort(feature_importances)[::-1]\n",
    "\n",
    "# Rearrange feature names and importances accordingly\n",
    "sorted_features = [features[i] for i in indices]\n",
    "sorted_importances = feature_importances[indices]\n",
    "\n",
    "# Print the feature importances in descending order\n",
    "for feature, importance in zip(sorted_features, sorted_importances):\n",
    "    print(f\"{feature}: {importance}\")"
   ]
  },
  {
   "attachments": {},
   "cell_type": "markdown",
   "metadata": {},
   "source": [
    "## Logistic Regression"
   ]
  },
  {
   "cell_type": "code",
   "execution_count": 34,
   "metadata": {},
   "outputs": [],
   "source": [
    "from sklearn.linear_model import LogisticRegression"
   ]
  },
  {
   "cell_type": "code",
   "execution_count": 38,
   "metadata": {},
   "outputs": [],
   "source": [
    "def FunctionFindBestParamsL(X_train, y_train, X_test, y_test):\n",
    "    \n",
    "    # Defino los hiperparámetros a evaluar\n",
    "    penalty = ['l2','l1']\n",
    "\n",
    "    SearchResultsData=pd.DataFrame(columns=['TrialNumber', 'Parameters','accuracy','sensitivity','specificity','confusion_mat'])\n",
    "    \n",
    "    # Inicializo los trials\n",
    "    TrialNumber=0\n",
    "    for penalty_trial in penalty:\n",
    "        TrialNumber+=1\n",
    "        \n",
    "        # Creo el RANDOM FOREST\n",
    "        model = LogisticRegression(penalty=penalty_trial,\n",
    "                                   solver = 'liblinear',\n",
    "                                   class_weight = {0: 1, 1: 5},\n",
    "                                   random_state=42)\n",
    "\n",
    "        # Entreno el modelo\n",
    "        model.fit(X_train, y_train)\n",
    "\n",
    "        # Hago las predicciones\n",
    "        y_pred = model.predict(X_test)\n",
    "\n",
    "        # Evalúo el modelo\n",
    "        accuracy = accuracy_score(y_test, y_pred)\n",
    "        #precision = precision_score(y_test, y_pred)\n",
    "\n",
    "        confusion_mat = confusion_matrix(y_test, y_pred)\n",
    "        tn, fp, fn, tp = confusion_matrix(y_test, y_pred).ravel()\n",
    "        sensitivity = tp / (tp+fn)\n",
    "        specificity = tn / (tn+fp)\n",
    "\n",
    "\n",
    "        # Imprimo los resultados de la iteración actual\n",
    "        print(TrialNumber, 'Parameters:','penalty:', penalty_trial)\n",
    "        \n",
    "        # Agrego la información del modelo a la tabla de modelos\n",
    "        SearchResultsData=SearchResultsData.append(pd.DataFrame(data=[[TrialNumber, str(penalty_trial), accuracy, sensitivity,specificity,confusion_mat]],\n",
    "                                                                columns=['TrialNumber', 'Parameters','accuracy','sensitivity','specificity','confusion_mat'] ))     \n",
    "    return(SearchResultsData)"
   ]
  },
  {
   "attachments": {},
   "cell_type": "markdown",
   "metadata": {},
   "source": [
    "### Prueba con el split de SMOTE"
   ]
  },
  {
   "cell_type": "code",
   "execution_count": 36,
   "metadata": {},
   "outputs": [
    {
     "name": "stdout",
     "output_type": "stream",
     "text": [
      "1 Parameters: penalty: l2\n",
      "2 Parameters: penalty: l1\n"
     ]
    },
    {
     "name": "stderr",
     "output_type": "stream",
     "text": [
      "/var/folders/yq/2ytqr3qs5jjgdh9_jqyq67br0000gn/T/ipykernel_84904/1949979930.py:39: FutureWarning: The frame.append method is deprecated and will be removed from pandas in a future version. Use pandas.concat instead.\n",
      "  SearchResultsData=SearchResultsData.append(pd.DataFrame(data=[[TrialNumber, str(penalty_trial), accuracy, sensitivity,specificity,confusion_mat]],\n",
      "/var/folders/yq/2ytqr3qs5jjgdh9_jqyq67br0000gn/T/ipykernel_84904/1949979930.py:39: FutureWarning: The frame.append method is deprecated and will be removed from pandas in a future version. Use pandas.concat instead.\n",
      "  SearchResultsData=SearchResultsData.append(pd.DataFrame(data=[[TrialNumber, str(penalty_trial), accuracy, sensitivity,specificity,confusion_mat]],\n"
     ]
    }
   ],
   "source": [
    "modelosL_smote=FunctionFindBestParamsL(X_resampled, y_resampled, X_test, y_test)"
   ]
  },
  {
   "cell_type": "code",
   "execution_count": 37,
   "metadata": {},
   "outputs": [
    {
     "data": {
      "text/html": [
       "<div>\n",
       "<style scoped>\n",
       "    .dataframe tbody tr th:only-of-type {\n",
       "        vertical-align: middle;\n",
       "    }\n",
       "\n",
       "    .dataframe tbody tr th {\n",
       "        vertical-align: top;\n",
       "    }\n",
       "\n",
       "    .dataframe thead th {\n",
       "        text-align: right;\n",
       "    }\n",
       "</style>\n",
       "<table border=\"1\" class=\"dataframe\">\n",
       "  <thead>\n",
       "    <tr style=\"text-align: right;\">\n",
       "      <th></th>\n",
       "      <th>TrialNumber</th>\n",
       "      <th>Parameters</th>\n",
       "      <th>accuracy</th>\n",
       "      <th>sensitivity</th>\n",
       "      <th>specificity</th>\n",
       "      <th>confusion_mat</th>\n",
       "    </tr>\n",
       "  </thead>\n",
       "  <tbody>\n",
       "    <tr>\n",
       "      <th>0</th>\n",
       "      <td>1</td>\n",
       "      <td>l2</td>\n",
       "      <td>0.636054</td>\n",
       "      <td>0.736842</td>\n",
       "      <td>0.621094</td>\n",
       "      <td>[[159, 97], [10, 28]]</td>\n",
       "    </tr>\n",
       "    <tr>\n",
       "      <th>0</th>\n",
       "      <td>2</td>\n",
       "      <td>l1</td>\n",
       "      <td>0.656463</td>\n",
       "      <td>0.684211</td>\n",
       "      <td>0.652344</td>\n",
       "      <td>[[167, 89], [12, 26]]</td>\n",
       "    </tr>\n",
       "  </tbody>\n",
       "</table>\n",
       "</div>"
      ],
      "text/plain": [
       "  TrialNumber Parameters  accuracy  sensitivity  specificity  \\\n",
       "0           1         l2  0.636054     0.736842     0.621094   \n",
       "0           2         l1  0.656463     0.684211     0.652344   \n",
       "\n",
       "           confusion_mat  \n",
       "0  [[159, 97], [10, 28]]  \n",
       "0  [[167, 89], [12, 26]]  "
      ]
     },
     "execution_count": 37,
     "metadata": {},
     "output_type": "execute_result"
    }
   ],
   "source": [
    "modelosL_smote"
   ]
  },
  {
   "attachments": {},
   "cell_type": "markdown",
   "metadata": {},
   "source": [
    "### Prueba con el split normal + class_weight"
   ]
  },
  {
   "cell_type": "code",
   "execution_count": 39,
   "metadata": {},
   "outputs": [
    {
     "name": "stdout",
     "output_type": "stream",
     "text": [
      "1 Parameters: penalty: l2\n",
      "2 Parameters: penalty: l1\n"
     ]
    },
    {
     "name": "stderr",
     "output_type": "stream",
     "text": [
      "/var/folders/yq/2ytqr3qs5jjgdh9_jqyq67br0000gn/T/ipykernel_84904/2715274353.py:39: FutureWarning: The frame.append method is deprecated and will be removed from pandas in a future version. Use pandas.concat instead.\n",
      "  SearchResultsData=SearchResultsData.append(pd.DataFrame(data=[[TrialNumber, str(penalty_trial), accuracy, sensitivity,specificity,confusion_mat]],\n",
      "/var/folders/yq/2ytqr3qs5jjgdh9_jqyq67br0000gn/T/ipykernel_84904/2715274353.py:39: FutureWarning: The frame.append method is deprecated and will be removed from pandas in a future version. Use pandas.concat instead.\n",
      "  SearchResultsData=SearchResultsData.append(pd.DataFrame(data=[[TrialNumber, str(penalty_trial), accuracy, sensitivity,specificity,confusion_mat]],\n"
     ]
    }
   ],
   "source": [
    "modelosL_weights=FunctionFindBestParamsL(X_train, y_train, X_test, y_test)"
   ]
  },
  {
   "cell_type": "code",
   "execution_count": 40,
   "metadata": {},
   "outputs": [
    {
     "data": {
      "text/html": [
       "<div>\n",
       "<style scoped>\n",
       "    .dataframe tbody tr th:only-of-type {\n",
       "        vertical-align: middle;\n",
       "    }\n",
       "\n",
       "    .dataframe tbody tr th {\n",
       "        vertical-align: top;\n",
       "    }\n",
       "\n",
       "    .dataframe thead th {\n",
       "        text-align: right;\n",
       "    }\n",
       "</style>\n",
       "<table border=\"1\" class=\"dataframe\">\n",
       "  <thead>\n",
       "    <tr style=\"text-align: right;\">\n",
       "      <th></th>\n",
       "      <th>TrialNumber</th>\n",
       "      <th>Parameters</th>\n",
       "      <th>accuracy</th>\n",
       "      <th>sensitivity</th>\n",
       "      <th>specificity</th>\n",
       "      <th>confusion_mat</th>\n",
       "    </tr>\n",
       "  </thead>\n",
       "  <tbody>\n",
       "    <tr>\n",
       "      <th>0</th>\n",
       "      <td>1</td>\n",
       "      <td>l2</td>\n",
       "      <td>0.734694</td>\n",
       "      <td>0.657895</td>\n",
       "      <td>0.746094</td>\n",
       "      <td>[[191, 65], [13, 25]]</td>\n",
       "    </tr>\n",
       "    <tr>\n",
       "      <th>0</th>\n",
       "      <td>2</td>\n",
       "      <td>l1</td>\n",
       "      <td>0.727891</td>\n",
       "      <td>0.657895</td>\n",
       "      <td>0.738281</td>\n",
       "      <td>[[189, 67], [13, 25]]</td>\n",
       "    </tr>\n",
       "  </tbody>\n",
       "</table>\n",
       "</div>"
      ],
      "text/plain": [
       "  TrialNumber Parameters  accuracy  sensitivity  specificity  \\\n",
       "0           1         l2  0.734694     0.657895     0.746094   \n",
       "0           2         l1  0.727891     0.657895     0.738281   \n",
       "\n",
       "           confusion_mat  \n",
       "0  [[191, 65], [13, 25]]  \n",
       "0  [[189, 67], [13, 25]]  "
      ]
     },
     "execution_count": 40,
     "metadata": {},
     "output_type": "execute_result"
    }
   ],
   "source": [
    "modelosL_weights"
   ]
  },
  {
   "attachments": {},
   "cell_type": "markdown",
   "metadata": {},
   "source": [
    "## Resample"
   ]
  },
  {
   "cell_type": "code",
   "execution_count": 164,
   "metadata": {},
   "outputs": [],
   "source": [
    "X_SMOTE,y_SMOTE=SMOTE(sampling_strategy=1, random_state=0).fit_resample(X, y)"
   ]
  },
  {
   "cell_type": "code",
   "execution_count": 165,
   "metadata": {},
   "outputs": [
    {
     "name": "stdout",
     "output_type": "stream",
     "text": [
      "(1972, 13) (494, 13) (1972,) (494,)\n"
     ]
    }
   ],
   "source": [
    "X_train_S, X_test_S, y_train_S, y_test_S = train_test_split(X_SMOTE, y_SMOTE,\n",
    "                                                    test_size=0.2,\n",
    "                                                    random_state=123)\n",
    "print(X_train_S.shape, X_test_S.shape, y_train_S.shape, y_test_S.shape)"
   ]
  },
  {
   "cell_type": "code",
   "execution_count": 166,
   "metadata": {},
   "outputs": [
    {
     "name": "stdout",
     "output_type": "stream",
     "text": [
      "1 Parameters: penalty: l2\n",
      "2 Parameters: penalty: l1\n"
     ]
    },
    {
     "name": "stderr",
     "output_type": "stream",
     "text": [
      "/var/folders/yq/2ytqr3qs5jjgdh9_jqyq67br0000gn/T/ipykernel_41581/4088066734.py:36: FutureWarning:\n",
      "\n",
      "The frame.append method is deprecated and will be removed from pandas in a future version. Use pandas.concat instead.\n",
      "\n",
      "/var/folders/yq/2ytqr3qs5jjgdh9_jqyq67br0000gn/T/ipykernel_41581/4088066734.py:36: FutureWarning:\n",
      "\n",
      "The frame.append method is deprecated and will be removed from pandas in a future version. Use pandas.concat instead.\n",
      "\n"
     ]
    }
   ],
   "source": [
    "modelosL=FunctionFindBestParamsL(X_train_S, y_train_S, X_test, y_test)"
   ]
  },
  {
   "cell_type": "code",
   "execution_count": 167,
   "metadata": {},
   "outputs": [
    {
     "data": {
      "text/html": [
       "<div>\n",
       "<style scoped>\n",
       "    .dataframe tbody tr th:only-of-type {\n",
       "        vertical-align: middle;\n",
       "    }\n",
       "\n",
       "    .dataframe tbody tr th {\n",
       "        vertical-align: top;\n",
       "    }\n",
       "\n",
       "    .dataframe thead th {\n",
       "        text-align: right;\n",
       "    }\n",
       "</style>\n",
       "<table border=\"1\" class=\"dataframe\">\n",
       "  <thead>\n",
       "    <tr style=\"text-align: right;\">\n",
       "      <th></th>\n",
       "      <th>TrialNumber</th>\n",
       "      <th>Parameters</th>\n",
       "      <th>accuracy</th>\n",
       "      <th>precision</th>\n",
       "      <th>recall</th>\n",
       "      <th>f1</th>\n",
       "      <th>auc_roc</th>\n",
       "      <th>confusion_mat</th>\n",
       "    </tr>\n",
       "  </thead>\n",
       "  <tbody>\n",
       "    <tr>\n",
       "      <th>0</th>\n",
       "      <td>1</td>\n",
       "      <td>l2</td>\n",
       "      <td>0.680272</td>\n",
       "      <td>0.235849</td>\n",
       "      <td>0.657895</td>\n",
       "      <td>0.347222</td>\n",
       "      <td>0.670744</td>\n",
       "      <td>[[175, 81], [13, 25]]</td>\n",
       "    </tr>\n",
       "    <tr>\n",
       "      <th>0</th>\n",
       "      <td>2</td>\n",
       "      <td>l1</td>\n",
       "      <td>0.693878</td>\n",
       "      <td>0.245098</td>\n",
       "      <td>0.657895</td>\n",
       "      <td>0.357143</td>\n",
       "      <td>0.678557</td>\n",
       "      <td>[[179, 77], [13, 25]]</td>\n",
       "    </tr>\n",
       "  </tbody>\n",
       "</table>\n",
       "</div>"
      ],
      "text/plain": [
       "  TrialNumber Parameters  accuracy  precision    recall        f1   auc_roc  \\\n",
       "0           1         l2  0.680272   0.235849  0.657895  0.347222  0.670744   \n",
       "0           2         l1  0.693878   0.245098  0.657895  0.357143  0.678557   \n",
       "\n",
       "           confusion_mat  \n",
       "0  [[175, 81], [13, 25]]  \n",
       "0  [[179, 77], [13, 25]]  "
      ]
     },
     "execution_count": 167,
     "metadata": {},
     "output_type": "execute_result"
    }
   ],
   "source": [
    "modelosL"
   ]
  },
  {
   "cell_type": "code",
   "execution_count": 278,
   "metadata": {},
   "outputs": [],
   "source": [
    "ganadorL = LogisticRegression(penalty='l2',\n",
    "                                   solver = 'liblinear',\n",
    "                                   class_weight = {0: 1, 1: 5},\n",
    "                                   random_state=42)"
   ]
  },
  {
   "cell_type": "code",
   "execution_count": 279,
   "metadata": {},
   "outputs": [
    {
     "data": {
      "text/html": [
       "<style>#sk-container-id-6 {color: black;background-color: white;}#sk-container-id-6 pre{padding: 0;}#sk-container-id-6 div.sk-toggleable {background-color: white;}#sk-container-id-6 label.sk-toggleable__label {cursor: pointer;display: block;width: 100%;margin-bottom: 0;padding: 0.3em;box-sizing: border-box;text-align: center;}#sk-container-id-6 label.sk-toggleable__label-arrow:before {content: \"▸\";float: left;margin-right: 0.25em;color: #696969;}#sk-container-id-6 label.sk-toggleable__label-arrow:hover:before {color: black;}#sk-container-id-6 div.sk-estimator:hover label.sk-toggleable__label-arrow:before {color: black;}#sk-container-id-6 div.sk-toggleable__content {max-height: 0;max-width: 0;overflow: hidden;text-align: left;background-color: #f0f8ff;}#sk-container-id-6 div.sk-toggleable__content pre {margin: 0.2em;color: black;border-radius: 0.25em;background-color: #f0f8ff;}#sk-container-id-6 input.sk-toggleable__control:checked~div.sk-toggleable__content {max-height: 200px;max-width: 100%;overflow: auto;}#sk-container-id-6 input.sk-toggleable__control:checked~label.sk-toggleable__label-arrow:before {content: \"▾\";}#sk-container-id-6 div.sk-estimator input.sk-toggleable__control:checked~label.sk-toggleable__label {background-color: #d4ebff;}#sk-container-id-6 div.sk-label input.sk-toggleable__control:checked~label.sk-toggleable__label {background-color: #d4ebff;}#sk-container-id-6 input.sk-hidden--visually {border: 0;clip: rect(1px 1px 1px 1px);clip: rect(1px, 1px, 1px, 1px);height: 1px;margin: -1px;overflow: hidden;padding: 0;position: absolute;width: 1px;}#sk-container-id-6 div.sk-estimator {font-family: monospace;background-color: #f0f8ff;border: 1px dotted black;border-radius: 0.25em;box-sizing: border-box;margin-bottom: 0.5em;}#sk-container-id-6 div.sk-estimator:hover {background-color: #d4ebff;}#sk-container-id-6 div.sk-parallel-item::after {content: \"\";width: 100%;border-bottom: 1px solid gray;flex-grow: 1;}#sk-container-id-6 div.sk-label:hover label.sk-toggleable__label {background-color: #d4ebff;}#sk-container-id-6 div.sk-serial::before {content: \"\";position: absolute;border-left: 1px solid gray;box-sizing: border-box;top: 0;bottom: 0;left: 50%;z-index: 0;}#sk-container-id-6 div.sk-serial {display: flex;flex-direction: column;align-items: center;background-color: white;padding-right: 0.2em;padding-left: 0.2em;position: relative;}#sk-container-id-6 div.sk-item {position: relative;z-index: 1;}#sk-container-id-6 div.sk-parallel {display: flex;align-items: stretch;justify-content: center;background-color: white;position: relative;}#sk-container-id-6 div.sk-item::before, #sk-container-id-6 div.sk-parallel-item::before {content: \"\";position: absolute;border-left: 1px solid gray;box-sizing: border-box;top: 0;bottom: 0;left: 50%;z-index: -1;}#sk-container-id-6 div.sk-parallel-item {display: flex;flex-direction: column;z-index: 1;position: relative;background-color: white;}#sk-container-id-6 div.sk-parallel-item:first-child::after {align-self: flex-end;width: 50%;}#sk-container-id-6 div.sk-parallel-item:last-child::after {align-self: flex-start;width: 50%;}#sk-container-id-6 div.sk-parallel-item:only-child::after {width: 0;}#sk-container-id-6 div.sk-dashed-wrapped {border: 1px dashed gray;margin: 0 0.4em 0.5em 0.4em;box-sizing: border-box;padding-bottom: 0.4em;background-color: white;}#sk-container-id-6 div.sk-label label {font-family: monospace;font-weight: bold;display: inline-block;line-height: 1.2em;}#sk-container-id-6 div.sk-label-container {text-align: center;}#sk-container-id-6 div.sk-container {/* jupyter's `normalize.less` sets `[hidden] { display: none; }` but bootstrap.min.css set `[hidden] { display: none !important; }` so we also need the `!important` here to be able to override the default hidden behavior on the sphinx rendered scikit-learn.org. See: https://github.com/scikit-learn/scikit-learn/issues/21755 */display: inline-block !important;position: relative;}#sk-container-id-6 div.sk-text-repr-fallback {display: none;}</style><div id=\"sk-container-id-6\" class=\"sk-top-container\"><div class=\"sk-text-repr-fallback\"><pre>LogisticRegression(class_weight={0: 1, 1: 5}, random_state=42,\n",
       "                   solver=&#x27;liblinear&#x27;)</pre><b>In a Jupyter environment, please rerun this cell to show the HTML representation or trust the notebook. <br />On GitHub, the HTML representation is unable to render, please try loading this page with nbviewer.org.</b></div><div class=\"sk-container\" hidden><div class=\"sk-item\"><div class=\"sk-estimator sk-toggleable\"><input class=\"sk-toggleable__control sk-hidden--visually\" id=\"sk-estimator-id-6\" type=\"checkbox\" checked><label for=\"sk-estimator-id-6\" class=\"sk-toggleable__label sk-toggleable__label-arrow\">LogisticRegression</label><div class=\"sk-toggleable__content\"><pre>LogisticRegression(class_weight={0: 1, 1: 5}, random_state=42,\n",
       "                   solver=&#x27;liblinear&#x27;)</pre></div></div></div></div></div>"
      ],
      "text/plain": [
       "LogisticRegression(class_weight={0: 1, 1: 5}, random_state=42,\n",
       "                   solver='liblinear')"
      ]
     },
     "execution_count": 279,
     "metadata": {},
     "output_type": "execute_result"
    }
   ],
   "source": [
    "ganadorL.fit(X_train,y_train)"
   ]
  },
  {
   "cell_type": "code",
   "execution_count": 280,
   "metadata": {},
   "outputs": [
    {
     "data": {
      "text/html": [
       "<style>#sk-container-id-7 {color: black;background-color: white;}#sk-container-id-7 pre{padding: 0;}#sk-container-id-7 div.sk-toggleable {background-color: white;}#sk-container-id-7 label.sk-toggleable__label {cursor: pointer;display: block;width: 100%;margin-bottom: 0;padding: 0.3em;box-sizing: border-box;text-align: center;}#sk-container-id-7 label.sk-toggleable__label-arrow:before {content: \"▸\";float: left;margin-right: 0.25em;color: #696969;}#sk-container-id-7 label.sk-toggleable__label-arrow:hover:before {color: black;}#sk-container-id-7 div.sk-estimator:hover label.sk-toggleable__label-arrow:before {color: black;}#sk-container-id-7 div.sk-toggleable__content {max-height: 0;max-width: 0;overflow: hidden;text-align: left;background-color: #f0f8ff;}#sk-container-id-7 div.sk-toggleable__content pre {margin: 0.2em;color: black;border-radius: 0.25em;background-color: #f0f8ff;}#sk-container-id-7 input.sk-toggleable__control:checked~div.sk-toggleable__content {max-height: 200px;max-width: 100%;overflow: auto;}#sk-container-id-7 input.sk-toggleable__control:checked~label.sk-toggleable__label-arrow:before {content: \"▾\";}#sk-container-id-7 div.sk-estimator input.sk-toggleable__control:checked~label.sk-toggleable__label {background-color: #d4ebff;}#sk-container-id-7 div.sk-label input.sk-toggleable__control:checked~label.sk-toggleable__label {background-color: #d4ebff;}#sk-container-id-7 input.sk-hidden--visually {border: 0;clip: rect(1px 1px 1px 1px);clip: rect(1px, 1px, 1px, 1px);height: 1px;margin: -1px;overflow: hidden;padding: 0;position: absolute;width: 1px;}#sk-container-id-7 div.sk-estimator {font-family: monospace;background-color: #f0f8ff;border: 1px dotted black;border-radius: 0.25em;box-sizing: border-box;margin-bottom: 0.5em;}#sk-container-id-7 div.sk-estimator:hover {background-color: #d4ebff;}#sk-container-id-7 div.sk-parallel-item::after {content: \"\";width: 100%;border-bottom: 1px solid gray;flex-grow: 1;}#sk-container-id-7 div.sk-label:hover label.sk-toggleable__label {background-color: #d4ebff;}#sk-container-id-7 div.sk-serial::before {content: \"\";position: absolute;border-left: 1px solid gray;box-sizing: border-box;top: 0;bottom: 0;left: 50%;z-index: 0;}#sk-container-id-7 div.sk-serial {display: flex;flex-direction: column;align-items: center;background-color: white;padding-right: 0.2em;padding-left: 0.2em;position: relative;}#sk-container-id-7 div.sk-item {position: relative;z-index: 1;}#sk-container-id-7 div.sk-parallel {display: flex;align-items: stretch;justify-content: center;background-color: white;position: relative;}#sk-container-id-7 div.sk-item::before, #sk-container-id-7 div.sk-parallel-item::before {content: \"\";position: absolute;border-left: 1px solid gray;box-sizing: border-box;top: 0;bottom: 0;left: 50%;z-index: -1;}#sk-container-id-7 div.sk-parallel-item {display: flex;flex-direction: column;z-index: 1;position: relative;background-color: white;}#sk-container-id-7 div.sk-parallel-item:first-child::after {align-self: flex-end;width: 50%;}#sk-container-id-7 div.sk-parallel-item:last-child::after {align-self: flex-start;width: 50%;}#sk-container-id-7 div.sk-parallel-item:only-child::after {width: 0;}#sk-container-id-7 div.sk-dashed-wrapped {border: 1px dashed gray;margin: 0 0.4em 0.5em 0.4em;box-sizing: border-box;padding-bottom: 0.4em;background-color: white;}#sk-container-id-7 div.sk-label label {font-family: monospace;font-weight: bold;display: inline-block;line-height: 1.2em;}#sk-container-id-7 div.sk-label-container {text-align: center;}#sk-container-id-7 div.sk-container {/* jupyter's `normalize.less` sets `[hidden] { display: none; }` but bootstrap.min.css set `[hidden] { display: none !important; }` so we also need the `!important` here to be able to override the default hidden behavior on the sphinx rendered scikit-learn.org. See: https://github.com/scikit-learn/scikit-learn/issues/21755 */display: inline-block !important;position: relative;}#sk-container-id-7 div.sk-text-repr-fallback {display: none;}</style><div id=\"sk-container-id-7\" class=\"sk-top-container\"><div class=\"sk-text-repr-fallback\"><pre>LogisticRegression(class_weight={0: 1, 1: 5}, random_state=42,\n",
       "                   solver=&#x27;liblinear&#x27;)</pre><b>In a Jupyter environment, please rerun this cell to show the HTML representation or trust the notebook. <br />On GitHub, the HTML representation is unable to render, please try loading this page with nbviewer.org.</b></div><div class=\"sk-container\" hidden><div class=\"sk-item\"><div class=\"sk-estimator sk-toggleable\"><input class=\"sk-toggleable__control sk-hidden--visually\" id=\"sk-estimator-id-7\" type=\"checkbox\" checked><label for=\"sk-estimator-id-7\" class=\"sk-toggleable__label sk-toggleable__label-arrow\">LogisticRegression</label><div class=\"sk-toggleable__content\"><pre>LogisticRegression(class_weight={0: 1, 1: 5}, random_state=42,\n",
       "                   solver=&#x27;liblinear&#x27;)</pre></div></div></div></div></div>"
      ],
      "text/plain": [
       "LogisticRegression(class_weight={0: 1, 1: 5}, random_state=42,\n",
       "                   solver='liblinear')"
      ]
     },
     "execution_count": 280,
     "metadata": {},
     "output_type": "execute_result"
    }
   ],
   "source": [
    "ganadorL"
   ]
  },
  {
   "cell_type": "code",
   "execution_count": 281,
   "metadata": {},
   "outputs": [
    {
     "name": "stdout",
     "output_type": "stream",
     "text": [
      "TotalWorkingYears: 0.14890855468924907\n",
      "BusinessTravel_Travel_Frequently: 0.1295557178997066\n",
      "OverTime_Yes: 0.10380317390374558\n",
      "YearsWithCurrManager: 0.08849328044039685\n",
      "MonthlyIncome: 0.033680740015413164\n",
      "Age: 0.032833758176861016\n",
      "YearsInCurrentRole: 0.02864818842262659\n",
      "YearsAtCompany: 0.0014635943333205868\n",
      "PercentSalaryHike: 9.47632644600795e-05\n"
     ]
    }
   ],
   "source": [
    "# Retrieve the feature coefficients\n",
    "coefficients = ganadorL.coef_[0]\n",
    "\n",
    "# Get the list of feature names\n",
    "features = data_final.drop('Attrition_Yes', axis=1).columns\n",
    "\n",
    "# Create a dictionary to store feature importance pairs\n",
    "feature_importance_dict = dict(zip(features, abs(coefficients)))\n",
    "\n",
    "# Sort feature importances in descending order\n",
    "sorted_importances = {k: v for k, v in sorted(feature_importance_dict.items(), key=lambda item: item[1], reverse=True)}\n",
    "\n",
    "# Print the feature importance values\n",
    "for feature, importance in sorted_importances.items():\n",
    "    print(f\"{feature}: {importance}\")"
   ]
  },
  {
   "cell_type": "code",
   "execution_count": 284,
   "metadata": {},
   "outputs": [
    {
     "data": {
      "text/plain": [
       "array([-3.28337582e-02,  3.36807400e-02, -9.47632645e-05,  1.48908555e-01,\n",
       "        1.46359433e-03, -2.86481884e-02,  8.84932804e-02, -1.29555718e-01,\n",
       "        1.03803174e-01, -9.09097455e-02, -1.67754753e-01,  7.30047592e-01,\n",
       "        1.28625655e+00])"
      ]
     },
     "execution_count": 284,
     "metadata": {},
     "output_type": "execute_result"
    }
   ],
   "source": [
    "ganadorL.coef_[0]"
   ]
  }
 ],
 "metadata": {
  "kernelspec": {
   "display_name": "Python 3",
   "language": "python",
   "name": "python3"
  },
  "language_info": {
   "codemirror_mode": {
    "name": "ipython",
    "version": 3
   },
   "file_extension": ".py",
   "mimetype": "text/x-python",
   "name": "python",
   "nbconvert_exporter": "python",
   "pygments_lexer": "ipython3",
   "version": "3.11.2"
  },
  "orig_nbformat": 4
 },
 "nbformat": 4,
 "nbformat_minor": 2
}
